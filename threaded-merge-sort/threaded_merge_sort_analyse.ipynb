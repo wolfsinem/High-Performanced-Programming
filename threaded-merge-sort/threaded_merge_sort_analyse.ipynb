{
 "cells": [
  {
   "cell_type": "markdown",
   "metadata": {},
   "source": [
    "# Threaded Merge Sort"
   ]
  },
  {
   "cell_type": "markdown",
   "metadata": {},
   "source": [
    "- Ontwerp op papier (a.h.v. een voorbeeld van een array van, zeg, 8 getallen) hoe je door middel van 1, 2, 4, 8 cores/processen/threads/... via het merge sort algoritme een lijst kan sorteren. Denk hierbij goed na over hoe je de data distribueert over de verschillende processen, en hoe je de resultaten ook weer efficient samen brengt."
   ]
  },
  {
   "cell_type": "code",
   "execution_count": 9,
   "metadata": {},
   "outputs": [],
   "source": [
    "# from IPython.display import IFrame\n",
    "# IFrame(\"visual.pdf\", width=0, height=0)"
   ]
  },
  {
   "cell_type": "markdown",
   "metadata": {},
   "source": [
    "- Analyseer je ontwerp, en bepaal wat de complexiteit van deze implementatie van merge sort is. Is deze vergelijkbaar met die we vorige keer hebben bepaald? Zo nee, waar ligt dat aan?\n",
    "        \n",
    "        - Het principe van de merge sort blijft vrijwel hetzelfde omdat de hoofd-lijst \n",
    "        nog steeds wordt gesplitst in meerdere sub-lijsten. Echter wordt er nu gebruik \n",
    "        gemaakt van verschillende threads over deze verschillende splitsingen wat\n",
    "        eigenlijk het proces van het algoritme versnelt en deze nu efficienter is dan\n",
    "        de vorige merge sort. \n",
    "        \n",
    "        - Merge sort neemt merge-stappen van log n omdat elke merge stap de lijst-grootte verdubbelt. \n",
    "        De tijdscomplexiteit is daarom O(n log n)\n",
    "        \n",
    "        - Conclusie: run-time van het algoritme wordt versneld maar de tijdscomplexiteit \n",
    "        blijft hetzelfde. \n",
    "       "
   ]
  },
  {
   "cell_type": "markdown",
   "metadata": {},
   "source": [
    "- Bepaal de communicatie overhead van je ontwerp: als je aanneemt dat elke opsplitsing van de lijst, elke verplaatsing van data naar een ander process en elke samenvoeging van lijsten even lang duren (allemaal een bepaalde tijd eenheid), hoe verhoudt de hoeveelheid communicatie zich dan tot het aantal ingezette processoren en tot de grootte van de lijst?"
   ]
  },
  {
   "cell_type": "markdown",
   "metadata": {},
   "source": [
    "- Maak een PoC implementatie in Python door middel van de threading of multiprocessing module. Bepaal testmatig wat de run-time complexiteit van je implementatie is bij gebruik van 1, 2, 4, ... threads/processen. Plot deze in een grafiek."
   ]
  }
 ],
 "metadata": {
  "kernelspec": {
   "display_name": "Python 3.8.0 64-bit",
   "language": "python",
   "name": "python38064bit94409e1e4df94da1b5cc700cc0e6ab29"
  },
  "language_info": {
   "codemirror_mode": {
    "name": "ipython",
    "version": 3
   },
   "file_extension": ".py",
   "mimetype": "text/x-python",
   "name": "python",
   "nbconvert_exporter": "python",
   "pygments_lexer": "ipython3",
   "version": "3.8.0"
  }
 },
 "nbformat": 4,
 "nbformat_minor": 2
}

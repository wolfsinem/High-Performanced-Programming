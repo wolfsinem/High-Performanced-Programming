{
 "cells": [
  {
   "cell_type": "markdown",
   "metadata": {},
   "source": [
    "# Selection Sort\n",
    "\n",
    "De recursieve sorteermethode genaamd Quick Sort is gebruikt de volgende stappen voor het sorteren \n",
    "van een een-dimensionale array van getallen:\n",
    "\n",
    "Partitioning Step: neem het eerste element (pivot) van de ongesorteerde array en bepaal zijn positie \n",
    "in de uiteindelijke gesorteerde array (d.w.z., maak een lijst van alle getallen die kleiner zijn dan \n",
    "de pivot, en eentje met getallen die groter zijn). Je hebt nu 1 element op de juiste positie, en twee \n",
    "ongesorteerde subarrays.\n",
    "\n",
    "Recursive Step: herhaal de Partioning Step op elke van de ongesorteerde subarrays. Elke keer als een \n",
    "partitioning wordt uitgevoerd, wordt er weer een element op zijn uiteindelijke plaats gezet, en worden \n",
    "er twee ongesorteerde subarrays gecreeerd. Zodra de subarrays slechts een element bevatten, staat dat \n",
    "element op de juiste plek (aangezien een array met een element gesorteerd is).\n",
    "\n",
    "    # Pseudocode #\n",
    "\n",
    "    function quicksort(array)\n",
    "        if array.lenght > 1\n",
    "            choose a pivot:\n",
    "            while (there are items left in array)\n",
    "                if (item<pivot)\n",
    "                    put item into subarray1;\n",
    "                else\n",
    "                    put item into subarray2;\n",
    "            \n",
    "            quicksort(subarray1);\n",
    "            quicksort(subarray2);"
   ]
  },
  {
   "cell_type": "code",
   "execution_count": 19,
   "metadata": {},
   "outputs": [],
   "source": [
    "import sys\n",
    "sys.setrecursionlimit(10**6) \n",
    "sys.path.append('/Users/wolfsinem/High-Performanced-Programming/opdracht_1.5')\n",
    "from bucket_sort import generate_random_list\n",
    "import numpy as np\n",
    "import timeit"
   ]
  },
  {
   "cell_type": "code",
   "execution_count": 16,
   "metadata": {},
   "outputs": [],
   "source": [
    "def quick_sort(lijst):\n",
    "    # if there is only 1 element or 0, you need to stop the recursion\n",
    "    if len(lijst) < 2:\n",
    "        return lijst\n",
    "    \n",
    "    # select any index in the list to be the pivot such that all the elements less than the pivot \n",
    "    # go to the left and the elements greater than the pivot go the the right.\n",
    "    pivot = lijst[0]\n",
    "    \n",
    "    list_low = []\n",
    "    list_high = [] \n",
    "\n",
    "    \"\"\"partitioning step\"\"\"\n",
    "    for number in lijst[1:]:\n",
    "        if number < pivot:\n",
    "            list_low.append(number)\n",
    "        else: \n",
    "            list_high.append(number)\n",
    "            \n",
    "    return quick_sort(list_low) + [pivot] + quick_sort(list_high)"
   ]
  },
  {
   "cell_type": "code",
   "execution_count": 20,
   "metadata": {},
   "outputs": [
    {
     "data": {
      "text/plain": [
       "[4, 9, 25, 58, 66, 70, 76, 79, 92, 94]"
      ]
     },
     "execution_count": 20,
     "metadata": {},
     "output_type": "execute_result"
    }
   ],
   "source": [
    "quick_sort(generate_random_list(10))"
   ]
  },
  {
   "cell_type": "code",
   "execution_count": 21,
   "metadata": {},
   "outputs": [],
   "source": [
    "def timer(function):\n",
    "    start_time = timeit.default_timer()\n",
    "    function\n",
    "    print('This algorithm took {:.10f} seconds'.format((timeit.default_timer() - start_time)))"
   ]
  },
  {
   "cell_type": "code",
   "execution_count": null,
   "metadata": {},
   "outputs": [],
   "source": [
    "timer(quick_sort(generate_random_list(600000)))"
   ]
  },
  {
   "cell_type": "markdown",
   "metadata": {},
   "source": [
    "## Tijd Complexiteit"
   ]
  },
  {
   "cell_type": "markdown",
   "metadata": {},
   "source": [
    "- Best case en Average case \n",
    "        - O(n log(n))\n",
    "        \n",
    "   In de meest gebalanceerde scenario split je de lijsten in twee gelijke delen waarin beide delen\n",
    "   dus evenveel gegenereerde getallen heeft. \n",
    "\n",
    "----\n",
    "- Worst case \n",
    "        - O(n^2)\n",
    "        \n",
    "   Dit komt voor wanneer de pivot die wordt gekozen uit de lijst, het grootste getal is \n",
    "   of juist het kleinste getal. \n",
    "\n",
    "    3, 5, 6, 2, 7, 9 --> pivot = 9\n",
    "    Alle getalen kleiner dan de pivot [3, 5, 6, 2, 7]\n",
    "    Er zijn geen getallen groter dan de pivot.\n",
    "    Kies weer de meest rechtste getal pivot = 7\n",
    "    Alle getalen kleiner dan de pivot [3, 5, 6, 2]\n",
    "    etc... dit wordt een lang proces. \n",
    "\n",
    "---\n",
    "\n",
    "Voor een lijst met 10 random gegenereerde getallen duurde het ongeveer 0.0000009537 seconden\n",
    "\n",
    "- 30.000 = 0.0000011910\n",
    "- 600.0000= 0.0000011921\n",
    "\n",
    "Opvallend aan het quick sort algoritme is het feit dat een lijst met meer gegenereerde getallen,\n",
    "sneller opgelost wordt dan een lijst met veel minder getallen. "
   ]
  }
 ],
 "metadata": {
  "kernelspec": {
   "display_name": "Python 3.8.0 64-bit",
   "language": "python",
   "name": "python38064bit94409e1e4df94da1b5cc700cc0e6ab29"
  },
  "language_info": {
   "codemirror_mode": {
    "name": "ipython",
    "version": 3
   },
   "file_extension": ".py",
   "mimetype": "text/x-python",
   "name": "python",
   "nbconvert_exporter": "python",
   "pygments_lexer": "ipython3",
   "version": "3.8.0"
  }
 },
 "nbformat": 4,
 "nbformat_minor": 2
}

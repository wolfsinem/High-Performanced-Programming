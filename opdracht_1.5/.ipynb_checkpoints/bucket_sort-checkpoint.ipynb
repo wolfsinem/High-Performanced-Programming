{
 "cells": [
  {
   "cell_type": "markdown",
   "metadata": {},
   "source": [
    "## Bucket sort"
   ]
  },
  {
   "cell_type": "markdown",
   "metadata": {},
   "source": [
    "Plaats elke waarde van de een-dimensionale array in een rij van de bucket array,\n",
    "gebaseerd op het meest rechtse cijfer in het getal (de \"een\"-waarde). \n",
    "Bijvoorbeeld, 97 wordt geplaatst in rij 7, 3 wordt geplaatst in rij 3 en 100 wordt geplaatst in rij 0. \n",
    "Deze stap heet de distribution pass.\n",
    "\n",
    "\n",
    "Loop door de bucket array rij voor rij, en kopieer de waardes terug in de originele array. \n",
    "Deze stap heet de gathering pass. De volgorde van de hierboven genoemde getallen is dus nu 100, 3, 97.\n",
    "\n",
    "Herhaal dit proces voor elke volgende digit-positie (dus voor de tientallen, honderdtallen, etc.). \n",
    "Na de laatste gathering pass is de array gesorteerd.\n",
    "\n",
    "---  \n",
    "        # Pseudocode #\n",
    "       \n",
    "        function bucketSort(Array)\n",
    "            n = Array.lenght\n",
    "            let B[0,...,n-1] be a new array\n",
    "            for i in 0 to n - 1 \n",
    "                B[i] <-- 0\n",
    "            for i = 1 to n\n",
    "                B[[nArray[i]]] <-- Array[i]\n",
    "            for i = 0 to n - 1 \n",
    "                sort list B[i] using insertion sort\n",
    "            concatenate the lists B[0],B[1],...,B[n-1]\n",
    "            return B \n",
    "            \n",
    "\n",
    "\n",
    "- array index | 0 | 1 | 2 | 3 | 4 | 5 | 6 | 7 | 8 | 9 |\n",
    "- element     | n | . | . | . | . | . | . | . | . | . |\n",
    "---\n",
    "- (123/1) % 10 = 3\n",
    "- (123/10) % 10 = 2\n",
    "- (123/100) % 10 = 1\n",
    "\n",
    "---\n",
    "Literatuurlijst: \n",
    "- https://www.growingwiththeweb.com/2015/06/bucket-sort.html\n",
    "- https://www.cs.umd.edu/class/fall2019/cmsc351-0101/files/bucketSort.pdf"
   ]
  },
  {
   "cell_type": "code",
   "execution_count": 1,
   "metadata": {},
   "outputs": [],
   "source": [
    "from numpy import random\n",
    "import math\n",
    "import timeit"
   ]
  },
  {
   "cell_type": "code",
   "execution_count": 2,
   "metadata": {},
   "outputs": [],
   "source": [
    "def generate_random_list(num_steps):\n",
    "    \"\"\"Generate list with random numbers with 1 to n digits\"\"\"\n",
    "    lijst = [random.randint(1,1000) for x in range(num_steps)]\n",
    "    print(\"List with all the random numbers: {}\".format(lijst))\n",
    "    return lijst\n",
    "\n",
    "# def index(number, n):\n",
    "#         return (number // 10**n) % 10\n",
    "\n",
    "def generate_buckets(n):\n",
    "    \"\"\"Generate x buckets\"\"\"\n",
    "    buckets_list = []\n",
    "    i = 0\n",
    "    while(i<n):\n",
    "        buckets_list.append([])\n",
    "        i+=1\n",
    "    return buckets_list\n",
    "\n",
    "def bucket_sort(lijst):\n",
    "    \"\"\"Distribution step\"\"\"\n",
    "    n = len(lijst)\n",
    "    \n",
    "    if n == 0:\n",
    "        return lijst\n",
    "    \n",
    "    index = 10\n",
    "    for i in range(len(str(max(lijst)))):\n",
    "        generated_buckets = generate_buckets(n)\n",
    "        for j in lijst:\n",
    "            generated_buckets[(j % index) // (index // 10)].append(j)\n",
    "        index = index * 10\n",
    "        \n",
    "        \"\"\"Gathering step\"\"\"\n",
    "        lijst = []\n",
    "        for i in generated_buckets:\n",
    "            for j in i:\n",
    "                lijst.append(j)\n",
    "        \n",
    "        \n",
    "    print(\"List with sorted random numbers: {}\".format(lijst))\n",
    "    \n",
    "#     return lijst"
   ]
  },
  {
   "cell_type": "code",
   "execution_count": 3,
   "metadata": {},
   "outputs": [
    {
     "name": "stdout",
     "output_type": "stream",
     "text": [
      "List with all the random numbers: [581, 577, 975, 749, 558, 220, 970, 814, 46, 756]\n",
      "List with sorted random numbers: [46, 220, 558, 577, 581, 749, 756, 814, 970, 975]\n"
     ]
    }
   ],
   "source": [
    "bucket_sort(generate_random_list(10))"
   ]
  },
  {
   "cell_type": "markdown",
   "metadata": {},
   "source": [
    "## Theorie"
   ]
  },
  {
   "cell_type": "markdown",
   "metadata": {},
   "source": [
    "- Best case: O(n+k)\n",
    "- Average case: O(n+k)\n",
    "---\n",
    "Als de getallen in de lijst zo zijn gegenereerd dat er per bucket maar 1 getal voorkomt waardoor het eigenlijk al is gesorteerd en je per bucket niet meer hoeft te sorteren. \n",
    "\n",
    "\n",
    "---- \n",
    "- Worst case: O(n^2)\n",
    "\n",
    "De worst case is wanneer de meeste getallen in de lijst bij elkaar in de zelfde bucket komen. Stel je hebt de getallen 12,22,32,42,52,62, dan komen ze allemaal in dezelfde bucket (2) en duurt het langer om te sorteren.\n",
    "\n",
    "---- "
   ]
  },
  {
   "cell_type": "code",
   "execution_count": 4,
   "metadata": {},
   "outputs": [],
   "source": [
    "def timer(function):\n",
    "    start_time = timeit.default_timer()\n",
    "    function\n",
    "    print('This algorithm took {:.10f} seconds'.format((timeit.default_timer() - start_time)))"
   ]
  },
  {
   "cell_type": "code",
   "execution_count": 5,
   "metadata": {},
   "outputs": [
    {
     "name": "stdout",
     "output_type": "stream",
     "text": [
      "List with all the random numbers: [380, 119, 370, 988, 606, 544, 884, 896, 768, 711]\n",
      "List with sorted random numbers: [119, 370, 380, 544, 606, 711, 768, 884, 896, 988]\n",
      "This algorithm took 0.0000007520 seconds\n"
     ]
    }
   ],
   "source": [
    "timer(bucket_sort(generate_random_list(10)))"
   ]
  }
 ],
 "metadata": {
  "kernelspec": {
   "display_name": "Python 3.8.0 64-bit",
   "language": "python",
   "name": "python38064bit94409e1e4df94da1b5cc700cc0e6ab29"
  },
  "language_info": {
   "codemirror_mode": {
    "name": "ipython",
    "version": 3
   },
   "file_extension": ".py",
   "mimetype": "text/x-python",
   "name": "python",
   "nbconvert_exporter": "python",
   "pygments_lexer": "ipython3",
   "version": "3.8.0"
  }
 },
 "nbformat": 4,
 "nbformat_minor": 2
}

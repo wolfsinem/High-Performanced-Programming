{
 "cells": [
  {
   "cell_type": "markdown",
   "metadata": {},
   "source": [
    "## Bucket sort"
   ]
  },
  {
   "cell_type": "markdown",
   "metadata": {},
   "source": [
    "Plaats elke waarde van de een-dimensionale array in een rij van de bucket array,\n",
    "gebaseerd op het meest rechtse cijfer in het getal (de \"een\"-waarde). \n",
    "Bijvoorbeeld, 97 wordt geplaatst in rij 7, 3 wordt geplaatst in rij 3 en 100 wordt geplaatst in rij 0. \n",
    "Deze stap heet de distribution pass.\n",
    "        \n",
    "        rechter getal wordt genomen door: \n",
    "                            (element % 10 ** digits)\n",
    "\n",
    "Loop door de bucket array rij voor rij, en kopieer de waardes terug in de originele array. \n",
    "Deze stap heet de gathering pass. De volgorde van de hierboven genoemde getallen is dus nu 100, 3, 97.\n",
    "\n",
    "Herhaal dit proces voor elke volgende digit-positie (dus voor de tientallen, honderdtallen, etc.). \n",
    "Na de laatste gathering pass is de array gesorteerd.\n",
    "\n",
    "- array index | 0 | 1 | 2 | 3 | 4 | 5 | 6 | 7 | 8 | 9 |\n",
    "- element     | n | . | . | . | . | . | . | . | . | . |\n",
    "\n",
    "floor ( ( max ( lijst ) + 1 ) / bucket )\n",
    "\n",
    "Bron: https://www.growingwiththeweb.com/2015/06/bucket-sort.html"
   ]
  },
  {
   "cell_type": "code",
   "execution_count": 41,
   "metadata": {},
   "outputs": [],
   "source": [
    "from numpy import random\n",
    "import math\n",
    "import timeit"
   ]
  },
  {
   "cell_type": "code",
   "execution_count": 5,
   "metadata": {},
   "outputs": [],
   "source": [
    "def generate_random_list(num_steps):\n",
    "    lijst = [random.randint(1,100) for x in range(num_steps)]\n",
    "    return lijst\n",
    "\n",
    "lijst = generate_random_list(10)"
   ]
  },
  {
   "cell_type": "code",
   "execution_count": 43,
   "metadata": {},
   "outputs": [],
   "source": [
    "def bucket_sort(lijst,num_steps):\n",
    "    \"\"\"make 10 buckets in which the integers will be sorted, from 0 to 9\"\"\"\n",
    "    buckets_list = []\n",
    "    i = 0\n",
    "    while(i<num_steps):\n",
    "        buckets_list.append([])\n",
    "        i+=1\n",
    "#     print(buckets_list)\n",
    "\n",
    "    max_value = max(lijst)\n",
    "    \n",
    "    \"\"\"sort each item in list to bucket\"\"\"\n",
    "    for i in lijst:\n",
    "        num = (int(math.ceil((i/max_value)*len(buckets_list))))\n",
    "        buckets_list[num-1].append(i)\n",
    "#     print(buckets_list)\n",
    "    \n",
    "    out_bucket = [num for bucket in buckets_list for num in sorted(bucket)]\n",
    "#     print(out_bucket)\n",
    "    \n",
    "    return out_bucket"
   ]
  },
  {
   "cell_type": "code",
   "execution_count": 44,
   "metadata": {},
   "outputs": [
    {
     "data": {
      "text/plain": [
       "[11, 14, 15, 28, 40, 46, 47, 55, 61, 62]"
      ]
     },
     "execution_count": 44,
     "metadata": {},
     "output_type": "execute_result"
    }
   ],
   "source": [
    "bucket_sort(lijst,10)"
   ]
  },
  {
   "cell_type": "markdown",
   "metadata": {},
   "source": [
    "## Theorie"
   ]
  },
  {
   "cell_type": "markdown",
   "metadata": {},
   "source": [
    "- Best case: O(n+k)\n",
    "- Average case: O(n+k)\n",
    "---\n",
    "Als de getallen in de lijst zo zijn gegenereerd dat er per bucket maar 1 getal voorkomt waardoor het eigenlijk al is gesorteerd en je per bucket niet meer hoeft te sorteren. \n",
    "\n",
    "\n",
    "---- \n",
    "- Worst case: O(n^2)\n",
    "\n",
    "De worst case is wanneer de meeste getallen in de lijst bij elkaar in de zelfde bucket komen. Stel je hebt de getallen 12,22,32,42,52,62, dan komen ze allemaal in dezelfde bucket (2) en duurt het langer om te sorteren.\n",
    "\n",
    "---- "
   ]
  },
  {
   "cell_type": "code",
   "execution_count": 45,
   "metadata": {},
   "outputs": [],
   "source": [
    "def timer(function):\n",
    "    start_time = timeit.default_timer()\n",
    "    function\n",
    "    print('This algorithm took {:.10f} seconds'.format((timeit.default_timer() - start_time)))"
   ]
  },
  {
   "cell_type": "code",
   "execution_count": 46,
   "metadata": {},
   "outputs": [
    {
     "name": "stdout",
     "output_type": "stream",
     "text": [
      "This algorithm took 0.0000007050 seconds\n"
     ]
    }
   ],
   "source": [
    "timer(bucket_sort(lijst,10))"
   ]
  }
 ],
 "metadata": {
  "kernelspec": {
   "display_name": "Python 3.8.0 64-bit",
   "language": "python",
   "name": "python38064bit94409e1e4df94da1b5cc700cc0e6ab29"
  },
  "language_info": {
   "codemirror_mode": {
    "name": "ipython",
    "version": 3
   },
   "file_extension": ".py",
   "mimetype": "text/x-python",
   "name": "python",
   "nbconvert_exporter": "python",
   "pygments_lexer": "ipython3",
   "version": "3.8.0"
  }
 },
 "nbformat": 4,
 "nbformat_minor": 2
}

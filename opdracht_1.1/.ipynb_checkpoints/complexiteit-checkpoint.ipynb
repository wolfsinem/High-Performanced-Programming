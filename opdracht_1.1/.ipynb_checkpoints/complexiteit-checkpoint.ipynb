{
 "cells": [
  {
   "cell_type": "markdown",
   "metadata": {},
   "source": [
    "# Complexiteit van sorteren\n",
    "Er zijn diverse soorten sorteer-algoritmen. \n",
    "In deze opgave gaan we een aantal van deze algoritmen op hun run time efficiëntie vergelijken; \n",
    "eerst door het draaien van een paar tests, vervolgens door analyse van de code (complexiteitsanalyse).\n",
    "Bron: https://canvas.hu.nl/courses/7560/assignments/69747 "
   ]
  },
  {
   "cell_type": "code",
   "execution_count": 20,
   "metadata": {},
   "outputs": [],
   "source": [
    "import numpy as np\n",
    "import pandas as pd\n",
    "from typing import List\n",
    "import sys\n",
    "import timeit\n",
    "sys.path.append('/Users/wolfsinem/High-Performanced-Programming/functions/')\n",
    "\n",
    "from sort_functions import selection_sort, recursive_selection_sort, insertion_sort, recursive_insertion_sort, merge_sort2, recursive_merge_sort, merge_arrays, recursive_insertion\n",
    "# %load_ext line_profiler #load line profiler extension\n",
    "# %lprun -f selection_sort selection_sort(lijst_1)"
   ]
  },
  {
   "cell_type": "markdown",
   "metadata": {},
   "source": [
    "#### Random lijsten genereren om de tests op uit te voeren"
   ]
  },
  {
   "cell_type": "code",
   "execution_count": 2,
   "metadata": {},
   "outputs": [],
   "source": [
    "def random_list(num_steps):\n",
    "    return list(np.random.sample(num_steps))\n",
    "\n",
    "list1 = random_list(1000)\n",
    "list2 = random_list(10000)\n",
    "list3 = random_list(30000)\n",
    "\n",
    "lists = [list1,list2,list3]"
   ]
  },
  {
   "cell_type": "code",
   "execution_count": 3,
   "metadata": {},
   "outputs": [],
   "source": [
    "\"\"\"function that can be used for each algorithm to measure the execution time\"\"\"\n",
    "def set_time(function,list_):\n",
    "    for i in list_:\n",
    "        start_time = timeit.default_timer()\n",
    "        function(i)\n",
    "        print('This algorithm took {:.4f} seconds'.format((timeit.default_timer() - start_time)))"
   ]
  },
  {
   "cell_type": "code",
   "execution_count": 9,
   "metadata": {},
   "outputs": [],
   "source": [
    "# sorted list\n",
    "sorted_list = [np.arange(1,30001,1)]\n",
    "\n",
    "# reversed list\n",
    "reversed_list = sorted_list[::-1]"
   ]
  },
  {
   "cell_type": "markdown",
   "metadata": {},
   "source": [
    "### Selection sort"
   ]
  },
  {
   "cell_type": "code",
   "execution_count": 5,
   "metadata": {},
   "outputs": [
    {
     "name": "stdout",
     "output_type": "stream",
     "text": [
      "This algorithm took 0.0435 seconds\n",
      "This algorithm took 3.8715 seconds\n",
      "This algorithm took 35.4964 seconds\n"
     ]
    }
   ],
   "source": [
    "set_time(selection_sort,lists)"
   ]
  },
  {
   "cell_type": "markdown",
   "metadata": {},
   "source": [
    "- selection sort with sorted list"
   ]
  },
  {
   "cell_type": "code",
   "execution_count": 10,
   "metadata": {},
   "outputs": [
    {
     "name": "stdout",
     "output_type": "stream",
     "text": [
      "This algorithm took 138.1180 seconds\n"
     ]
    }
   ],
   "source": [
    "set_time(selection_sort,sorted_list)"
   ]
  },
  {
   "cell_type": "markdown",
   "metadata": {},
   "source": [
    "- selection sort with reversed list "
   ]
  },
  {
   "cell_type": "code",
   "execution_count": 11,
   "metadata": {},
   "outputs": [
    {
     "name": "stdout",
     "output_type": "stream",
     "text": [
      "This algorithm took 136.6490 seconds\n"
     ]
    }
   ],
   "source": [
    "set_time(selection_sort,reversed_list)"
   ]
  },
  {
   "cell_type": "markdown",
   "metadata": {},
   "source": [
    "### Insertion sort"
   ]
  },
  {
   "cell_type": "code",
   "execution_count": 16,
   "metadata": {},
   "outputs": [
    {
     "name": "stdout",
     "output_type": "stream",
     "text": [
      "This algorithm took 0.0002 seconds\n",
      "This algorithm took 0.0030 seconds\n",
      "This algorithm took 0.0080 seconds\n"
     ]
    }
   ],
   "source": [
    "set_time(insertion_sort,lists)"
   ]
  },
  {
   "cell_type": "markdown",
   "metadata": {},
   "source": [
    "- insertion sort with sorted list"
   ]
  },
  {
   "cell_type": "code",
   "execution_count": 17,
   "metadata": {},
   "outputs": [
    {
     "name": "stdout",
     "output_type": "stream",
     "text": [
      "This algorithm took 0.0146 seconds\n"
     ]
    }
   ],
   "source": [
    "set_time(insertion_sort,sorted_list)"
   ]
  },
  {
   "cell_type": "markdown",
   "metadata": {},
   "source": [
    "- insertion sort with reversed list"
   ]
  },
  {
   "cell_type": "code",
   "execution_count": 18,
   "metadata": {},
   "outputs": [
    {
     "name": "stdout",
     "output_type": "stream",
     "text": [
      "This algorithm took 0.0139 seconds\n"
     ]
    }
   ],
   "source": [
    "set_time(insertion_sort,reversed_list)"
   ]
  },
  {
   "cell_type": "markdown",
   "metadata": {},
   "source": [
    "### Merge sort"
   ]
  },
  {
   "cell_type": "code",
   "execution_count": 21,
   "metadata": {},
   "outputs": [
    {
     "name": "stdout",
     "output_type": "stream",
     "text": [
      "This algorithm took 0.0015 seconds\n",
      "This algorithm took 0.0203 seconds\n",
      "This algorithm took 0.0498 seconds\n"
     ]
    }
   ],
   "source": [
    "set_time(merge_sort2,lists)"
   ]
  },
  {
   "cell_type": "markdown",
   "metadata": {},
   "source": [
    "- merge sort with sorted list"
   ]
  },
  {
   "cell_type": "code",
   "execution_count": 24,
   "metadata": {},
   "outputs": [
    {
     "name": "stdout",
     "output_type": "stream",
     "text": [
      "This algorithm took 0.1028 seconds\n"
     ]
    }
   ],
   "source": [
    "set_time(merge_sort2,sorted_list)"
   ]
  },
  {
   "cell_type": "markdown",
   "metadata": {},
   "source": [
    "- merge sort with reversed list"
   ]
  },
  {
   "cell_type": "code",
   "execution_count": 25,
   "metadata": {},
   "outputs": [
    {
     "name": "stdout",
     "output_type": "stream",
     "text": [
      "This algorithm took 0.1071 seconds\n"
     ]
    }
   ],
   "source": [
    "set_time(merge_sort2,reversed_list)"
   ]
  },
  {
   "cell_type": "markdown",
   "metadata": {},
   "source": [
    "### Tabel met alle uitkomsten"
   ]
  },
  {
   "cell_type": "markdown",
   "metadata": {},
   "source": [
    "| list | selection_sort | insertion_sort | merge_sort |\n",
    "|------:|----------------|----------------|------------|\n",
    "| 1000  | 0.0435              | 0.0002              | 0.0015          |\n",
    "| 10000 | 3.8715              | 0.0030              | 0.0203          |\n",
    "| 30000 | 35.4964              | 0.0080              | 0.0498          |\n",
    "\n",
    "\n",
    "\n",
    "| list | selection_sort | insertion_sort | merge_sort |\n",
    "|------:|----------------|----------------|------------|\n",
    "| sorted  | 138.1180              | 0.0146              | 0.1028          |\n",
    "| reversed | 136.6490              | 0.0139              | 0.1071          |\n"
   ]
  },
  {
   "cell_type": "markdown",
   "metadata": {},
   "source": [
    "## Theorie\n",
    "<i> Bekijk / bepaal aan de hand van de algoritmes (en beschrijvingen) hierboven, wat de theoretische run time efficiëntie (Big O) van elk van deze algoritmes is. Bepaal hiervoor 'best case', 'worst case' en 'average case' run time efficiëntie. </i>"
   ]
  },
  {
   "cell_type": "markdown",
   "metadata": {},
   "source": [
    "### selection_sort\n",
    "- best case: O(n^2)\n",
    "- worst case: O(n^2) \n",
    "- average case: O(n^2)\n",
    "\n",
    "De methode werkt als volgt:\n",
    "- zoekt de kleinste waarde in de lijst\n",
    "- verwisselt het met de eerste waarde in de lijst\n",
    "- herhaalt de bovenstaande stappen met de rest van de lijst\n",
    "\n",
    "----\n",
    "\n",
    "### insertion_sort\n",
    "- best case: O(n)\n",
    "- worst case: O(n^2)\n",
    "- average case: O(n^2)\n",
    "\n",
    "De methode werkt als volgt:\n",
    "- de eerste twee elementen uit de set worden gesorteerd\n",
    "- als deze op de plaats staan wordt het derde element toegevoegd\n",
    "- bovenstaande stappen worden herhaald totdat alle elementen op hun plaats zijn gezet\n",
    "\n",
    "----\n",
    "\n",
    "### merge_sort\n",
    "- best case: O(nlog(n))\n",
    "- worst case: O(nlog(n)) \n",
    "- average case: O(nlog(n))\n",
    "\n",
    "De methode werkt als volgt:\n",
    "- een lijst met getallen wordt in twee gelijke delen verdeeld (kan ook oneven zijn)\n",
    "- de sub-lijsten worden vervolgens ook verdeeld totdat je twee elementen met elkaar vergelijkt en op de juiste plaats zet\n",
    "- de sub-lijsten worden elk gesorteerd en op het eind worden de twee sub-lijsten samengevoegd \n",
    "\n",
    "Er worden altijd 2n verplaatsingen van array-elementen gedaan.\n"
   ]
  },
  {
   "cell_type": "markdown",
   "metadata": {},
   "source": [
    "<b>Maakt het voor de complexiteit (Big O) van een algoritme uit of je een iteratieve of een recursieve versie beschouwt?</b>\n",
    "\n",
    "Hoewel er een verschil zit in gebruik van een iteratieve en recursieve methode maakt het voor de Big O complexiteit niet uit welke methode je beschouwt. De tijd complexiteit blijft enigszins hetzelfde maar zal het verschil meer liggen in 'space complexity'.\n",
    "\n",
    "- Stel je maakt gebruik van een algoritme, dan zal deze dezelfde volgordelijke stappen ondernemen voor zowel een iteratieve als recursieve methode."
   ]
  }
 ],
 "metadata": {
  "kernelspec": {
   "display_name": "Python 3.8.0 64-bit",
   "language": "python",
   "name": "python38064bit94409e1e4df94da1b5cc700cc0e6ab29"
  },
  "language_info": {
   "codemirror_mode": {
    "name": "ipython",
    "version": 3
   },
   "file_extension": ".py",
   "mimetype": "text/x-python",
   "name": "python",
   "nbconvert_exporter": "python",
   "pygments_lexer": "ipython3",
   "version": "3.8.0"
  }
 },
 "nbformat": 4,
 "nbformat_minor": 2
}

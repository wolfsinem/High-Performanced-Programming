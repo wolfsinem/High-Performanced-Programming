{
 "cells": [
  {
   "cell_type": "markdown",
   "metadata": {},
   "source": [
    "# Complexiteit van sorteren\n",
    "Er zijn diverse soorten sorteer-algoritmen. \n",
    "In deze opgave gaan we een aantal van deze algoritmen op hun run time efficiëntie vergelijken; \n",
    "eerst door het draaien van een paar tests, vervolgens door analyse van de code (complexiteitsanalyse).\n",
    "Bron: https://canvas.hu.nl/courses/7560/assignments/69747 "
   ]
  },
  {
   "cell_type": "code",
   "execution_count": 1,
   "metadata": {},
   "outputs": [],
   "source": [
    "from numpy import random\n",
    "import pandas as pd\n",
    "from typing import List\n",
    "import sys\n",
    "import timeit\n",
    "sys.path.append('/Users/wolfsinem/High-Performanced-Programming/functions/')\n",
    "\n",
    "from sort_functions import selection_sort, recursive_selection_sort, insertion_sort, recursive_insertion_sort, merge_sort, recursive_merge_sort, merge_arrays, recursive_insertion\n",
    "# %load_ext line_profiler #load line profiler extension\n",
    "# %lprun -f selection_sort selection_sort(lijst_1)"
   ]
  },
  {
   "cell_type": "markdown",
   "metadata": {},
   "source": [
    "#### Random lijsten genereren om de tests op uit te voeren"
   ]
  },
  {
   "cell_type": "code",
   "execution_count": 2,
   "metadata": {},
   "outputs": [],
   "source": [
    "def random_list(num_steps):\n",
    "    return list(random.sample(num_steps))\n",
    "\n",
    "list1 = random_list(1000)\n",
    "list2 = random_list(10000)\n",
    "list3 = random_list(30000)\n",
    "\n",
    "lists = [list1,list2,list3]"
   ]
  },
  {
   "cell_type": "code",
   "execution_count": 3,
   "metadata": {},
   "outputs": [],
   "source": [
    "\"\"\"function that can be used for each algorithm to measure the execution time\"\"\"\n",
    "def set_time(function,list_):\n",
    "    for i in list_:\n",
    "        start_time = timeit.default_timer()\n",
    "        function(i)\n",
    "        print('This algorithm took {:.4f} seconds'.format((timeit.default_timer() - start_time)))"
   ]
  },
  {
   "cell_type": "code",
   "execution_count": 4,
   "metadata": {},
   "outputs": [],
   "source": [
    "# sorted list\n",
    "sorted_list = [[i for i in range(1000)]]\n",
    "\n",
    "# reversed list\n",
    "reversed_list = sorted_list[::-1]"
   ]
  },
  {
   "cell_type": "markdown",
   "metadata": {},
   "source": [
    "### Selection sort"
   ]
  },
  {
   "cell_type": "code",
   "execution_count": 5,
   "metadata": {},
   "outputs": [
    {
     "name": "stdout",
     "output_type": "stream",
     "text": [
      "This algorithm took 0.0403 seconds\n",
      "This algorithm took 3.8713 seconds\n",
      "This algorithm took 34.4327 seconds\n"
     ]
    }
   ],
   "source": [
    "set_time(selection_sort,lists)"
   ]
  },
  {
   "cell_type": "markdown",
   "metadata": {},
   "source": [
    "- selection sort with sorted list"
   ]
  },
  {
   "cell_type": "code",
   "execution_count": 6,
   "metadata": {},
   "outputs": [
    {
     "name": "stdout",
     "output_type": "stream",
     "text": [
      "This algorithm took 0.0367 seconds\n"
     ]
    }
   ],
   "source": [
    "set_time(selection_sort,sorted_list)"
   ]
  },
  {
   "cell_type": "markdown",
   "metadata": {},
   "source": [
    "- selection sort with reversed list "
   ]
  },
  {
   "cell_type": "code",
   "execution_count": 7,
   "metadata": {},
   "outputs": [
    {
     "name": "stdout",
     "output_type": "stream",
     "text": [
      "This algorithm took 0.0386 seconds\n"
     ]
    }
   ],
   "source": [
    "set_time(selection_sort,reversed_list)"
   ]
  },
  {
   "cell_type": "markdown",
   "metadata": {},
   "source": [
    "### Insertion sort"
   ]
  },
  {
   "cell_type": "code",
   "execution_count": 8,
   "metadata": {},
   "outputs": [
    {
     "name": "stdout",
     "output_type": "stream",
     "text": [
      "This algorithm took 0.0003 seconds\n",
      "This algorithm took 0.0028 seconds\n",
      "This algorithm took 0.0097 seconds\n"
     ]
    }
   ],
   "source": [
    "set_time(insertion_sort,lists)"
   ]
  },
  {
   "cell_type": "markdown",
   "metadata": {},
   "source": [
    "- insertion sort with sorted list"
   ]
  },
  {
   "cell_type": "code",
   "execution_count": 9,
   "metadata": {},
   "outputs": [
    {
     "name": "stdout",
     "output_type": "stream",
     "text": [
      "This algorithm took 0.0003 seconds\n"
     ]
    }
   ],
   "source": [
    "set_time(insertion_sort,sorted_list)"
   ]
  },
  {
   "cell_type": "markdown",
   "metadata": {},
   "source": [
    "- insertion sort with reversed list"
   ]
  },
  {
   "cell_type": "code",
   "execution_count": 10,
   "metadata": {},
   "outputs": [
    {
     "name": "stdout",
     "output_type": "stream",
     "text": [
      "This algorithm took 0.0004 seconds\n"
     ]
    }
   ],
   "source": [
    "set_time(insertion_sort,reversed_list)"
   ]
  },
  {
   "cell_type": "markdown",
   "metadata": {},
   "source": [
    "### Merge sort"
   ]
  },
  {
   "cell_type": "code",
   "execution_count": 11,
   "metadata": {},
   "outputs": [
    {
     "name": "stdout",
     "output_type": "stream",
     "text": [
      "This algorithm took 0.0026 seconds\n",
      "This algorithm took 0.0175 seconds\n",
      "This algorithm took 0.0437 seconds\n"
     ]
    }
   ],
   "source": [
    "set_time(merge_sort,lists)"
   ]
  },
  {
   "cell_type": "markdown",
   "metadata": {},
   "source": [
    "- merge sort with sorted list"
   ]
  },
  {
   "cell_type": "code",
   "execution_count": 12,
   "metadata": {},
   "outputs": [
    {
     "name": "stdout",
     "output_type": "stream",
     "text": [
      "This algorithm took 0.0001 seconds\n"
     ]
    }
   ],
   "source": [
    "set_time(insertion_sort,sorted_list)"
   ]
  },
  {
   "cell_type": "markdown",
   "metadata": {},
   "source": [
    "- merge sort with reversed list"
   ]
  },
  {
   "cell_type": "code",
   "execution_count": 13,
   "metadata": {},
   "outputs": [
    {
     "name": "stdout",
     "output_type": "stream",
     "text": [
      "This algorithm took 0.0003 seconds\n"
     ]
    }
   ],
   "source": [
    "set_time(insertion_sort,reversed_list)"
   ]
  },
  {
   "cell_type": "markdown",
   "metadata": {},
   "source": [
    "### Tabel met alle uitkomsten"
   ]
  },
  {
   "cell_type": "markdown",
   "metadata": {},
   "source": [
    "| list | selection_sort | insertion_sort | merge_sort |\n",
    "|------:|----------------|----------------|------------|\n",
    "| 1000  | 0.0403              | 0.0003              | 0.0026          |\n",
    "| 10000 | 3.8713              | 0.0028              | 0.0175          |\n",
    "| 30000 | 34.4327              | 0.0097              | 0.0437          |\n",
    "\n",
    "\n",
    "\n",
    "| list | selection_sort | insertion_sort | merge_sort |\n",
    "|------:|----------------|----------------|------------|\n",
    "| sorted  | 0.0367              | 0.0003              | 0.0001          |\n",
    "| reversed | 0.0386              | 0.0004              | 0.0003          |\n"
   ]
  },
  {
   "cell_type": "markdown",
   "metadata": {},
   "source": [
    "## Theorie\n",
    "<i> Bekijk / bepaal aan de hand van de algoritmes (en beschrijvingen) hierboven, wat de theoretische run time efficiëntie (Big O) van elk van deze algoritmes is. Bepaal hiervoor 'best case', 'worst case' en 'average case' run time efficiëntie. </i>"
   ]
  },
  {
   "cell_type": "markdown",
   "metadata": {},
   "source": [
    "### selection_sort\n",
    "- best case: O(n^2)\n",
    "- worst case: O(n^2) \n",
    "- average case: O(n^2)\n",
    "\n",
    "\n",
    "### insertion_sort\n",
    "- best case: O(n)\n",
    "- worst case: O(n^2)\n",
    "- average case: O(n^2)\n",
    "\n",
    "\n",
    "### merge_sort\n",
    "- best case: O(nlog(n))\n",
    "- worst case: O(nlog(n)) \n",
    "- average case: O(nlog(n))"
   ]
  },
  {
   "cell_type": "markdown",
   "metadata": {},
   "source": [
    "<b>Maakt het voor de complexiteit (Big O) van een algoritme uit of je een iteratieve of een recursieve versie beschouwt?</b>\n",
    "\n",
    "Hoewel er een verschil zit in gebruik van een iteratieve en recursieve methode maakt het voor de Big O complexiteit niet uit welke methode je beschouwt. De tijd complexiteit blijft enigszins hetzelfde maar zal het verschil meer liggen in 'space complexity'.\n",
    "\n",
    "- Stel je maakt gebruik van een algoritme, dan zal deze dezelfde volgordelijke stappen ondernemen voor zowel een iteratieve als recursieve methode."
   ]
  },
  {
   "cell_type": "code",
   "execution_count": null,
   "metadata": {},
   "outputs": [],
   "source": []
  }
 ],
 "metadata": {
  "kernelspec": {
   "display_name": "Python 3.8.0 64-bit",
   "language": "python",
   "name": "python38064bit94409e1e4df94da1b5cc700cc0e6ab29"
  },
  "language_info": {
   "codemirror_mode": {
    "name": "ipython",
    "version": 3
   },
   "file_extension": ".py",
   "mimetype": "text/x-python",
   "name": "python",
   "nbconvert_exporter": "python",
   "pygments_lexer": "ipython3",
   "version": "3.8.0"
  }
 },
 "nbformat": 4,
 "nbformat_minor": 2
}
